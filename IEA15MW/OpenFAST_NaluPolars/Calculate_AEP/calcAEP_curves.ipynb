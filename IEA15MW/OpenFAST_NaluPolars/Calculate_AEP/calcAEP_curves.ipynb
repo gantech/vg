{
 "cells": [
  {
   "cell_type": "code",
   "execution_count": 1,
   "id": "8d6781b6",
   "metadata": {},
   "outputs": [],
   "source": [
    "import numpy as np\n",
    "import matplotlib.pyplot as plt\n",
    "import math\n",
    "import cmath"
   ]
  },
  {
   "cell_type": "code",
   "execution_count": 2,
   "id": "4d0977fb",
   "metadata": {},
   "outputs": [
    {
     "name": "stdout",
     "output_type": "stream",
     "text": [
      "../IEA-15-240-RWT-Monopile/output_files_IEA-15-240-RWT_default/IEA-15-240-RWT_4mps.out\n",
      "../IEA-15-240-RWT-Monopile/output_files_IEA-15-240-RWT_default/IEA-15-240-RWT_5mps.out\n",
      "../IEA-15-240-RWT-Monopile/output_files_IEA-15-240-RWT_default/IEA-15-240-RWT_6mps.out\n",
      "../IEA-15-240-RWT-Monopile/output_files_IEA-15-240-RWT_default/IEA-15-240-RWT_7mps.out\n",
      "../IEA-15-240-RWT-Monopile/output_files_IEA-15-240-RWT_default/IEA-15-240-RWT_8mps.out\n",
      "../IEA-15-240-RWT-Monopile/output_files_IEA-15-240-RWT_default/IEA-15-240-RWT_9mps.out\n",
      "../IEA-15-240-RWT-Monopile/output_files_IEA-15-240-RWT_default/IEA-15-240-RWT_10mps.out\n",
      "../IEA-15-240-RWT-Monopile/output_files_IEA-15-240-RWT_default/IEA-15-240-RWT_11mps.out\n",
      "../IEA-15-240-RWT-Monopile/output_files_IEA-15-240-RWT_default/IEA-15-240-RWT_12mps.out\n",
      "../IEA-15-240-RWT-Monopile/output_files_IEA-15-240-RWT_default/IEA-15-240-RWT_13mps.out\n",
      "../IEA-15-240-RWT-Monopile/output_files_IEA-15-240-RWT_default/IEA-15-240-RWT_14mps.out\n",
      "../IEA-15-240-RWT-Monopile/output_files_IEA-15-240-RWT_default/IEA-15-240-RWT_15mps.out\n",
      "../IEA-15-240-RWT-Monopile/output_files_IEA-15-240-RWT_default/IEA-15-240-RWT_16mps.out\n",
      "../IEA-15-240-RWT-Monopile/output_files_IEA-15-240-RWT_default/IEA-15-240-RWT_17mps.out\n",
      "../IEA-15-240-RWT-Monopile/output_files_IEA-15-240-RWT_default/IEA-15-240-RWT_18mps.out\n",
      "../IEA-15-240-RWT-Monopile/output_files_IEA-15-240-RWT_default/IEA-15-240-RWT_19mps.out\n",
      "../IEA-15-240-RWT-Monopile/output_files_IEA-15-240-RWT_default/IEA-15-240-RWT_20mps.out\n",
      "../IEA-15-240-RWT-Monopile/output_files_IEA-15-240-RWT_default/IEA-15-240-RWT_21mps.out\n",
      "../IEA-15-240-RWT-Monopile/output_files_IEA-15-240-RWT_default/IEA-15-240-RWT_22mps.out\n",
      "../IEA-15-240-RWT-Monopile/output_files_IEA-15-240-RWT_default/IEA-15-240-RWT_23mps.out\n",
      "../IEA-15-240-RWT-Monopile/output_files_IEA-15-240-RWT_default/IEA-15-240-RWT_24mps.out\n"
     ]
    }
   ],
   "source": [
    "# construct power curve\n",
    "sp0 = 4\n",
    "spn = 24\n",
    "npoints = spn - sp0 + 1\n",
    "speeds = np.zeros(npoints)\n",
    "powers = np.zeros(npoints)\n",
    "for n in range(sp0, spn+1):\n",
    "    prefix = \"../IEA-15-240-RWT-Monopile/output_files/IEA-15-240-RWT_\"\n",
    "    suffix = \"mps.out\"\n",
    "    fname = prefix + str(n) + suffix\n",
    "    print(fname)\n",
    "    data = np.genfromtxt(fname,skip_header=60008)\n",
    "    ncol = len(data)\n",
    "    pwr = data[ncol-2]\n",
    "    speeds[n-sp0] = float(n)\n",
    "    powers[n-sp0] = pwr\n"
   ]
  },
  {
   "cell_type": "code",
   "execution_count": 3,
   "id": "c7ba12aa",
   "metadata": {},
   "outputs": [],
   "source": [
    "# Weibull pdf\n",
    "p_area = np.zeros(npoints)\n",
    "k = 2.0\n",
    "xbar = 10\n",
    "#A = xbar / gamma(1.0 + 1.0/k)\n",
    "A = xbar / (np.sqrt(np.pi) / 2)\n",
    "for n in range(sp0, spn+1):\n",
    "    left = float(n)-0.5\n",
    "    right = float(n)\n",
    "    \n",
    "    cdf_l = 1.0 - np.exp(-((left/A)**k))\n",
    "    cdf_r = 1.0 - np.exp(-((right/A)**k))\n",
    "    \n",
    "    p_area[n-sp0] = cdf_r - cdf_l"
   ]
  },
  {
   "cell_type": "code",
   "execution_count": 4,
   "id": "9f7e3b87",
   "metadata": {},
   "outputs": [
    {
     "data": {
      "image/png": "[encoded data removed]",
      "text/plain": [
       "<Figure size 432x288 with 2 Axes>"
      ]
     },
     "metadata": {
      "needs_background": "light"
     },
     "output_type": "display_data"
    }
   ],
   "source": [
    "plt.figure\n",
    "\n",
    "ax1 = plt.subplot()\n",
    "l1, = ax1.plot(speeds,powers, color='red')\n",
    "ax2 = ax1.twinx()\n",
    "l2, = ax2.plot(speeds,p_area, color='blue')\n",
    "\n",
    "plt.legend([l1, l2], [\"power curve\", \"Weibull pdf\"])\n",
    "plt.show()"
   ]
  },
  {
   "cell_type": "code",
   "execution_count": 5,
   "id": "b19e0332",
   "metadata": {},
   "outputs": [
    {
     "name": "stdout",
     "output_type": "stream",
     "text": [
      "40.04426307366364\n"
     ]
    }
   ],
   "source": [
    "# Calculate AEP\n",
    "AEP = 0\n",
    "for n in range(sp0, spn+1):\n",
    "    # pwr in kW -> AEP in GWh\n",
    "    AEP += p_area[n-sp0] * powers[n-sp0] * 24 * 365 / 1e6 \n",
    "print(AEP)"
   ]
  },
  {
   "cell_type": "code",
   "execution_count": null,
   "id": "ffeee314",
   "metadata": {},
   "outputs": [],
   "source": []
  }
 ],
 "metadata": {
  "kernelspec": {
   "display_name": "Python 3 (ipykernel)",
   "language": "python",
   "name": "python3"
  },
  "language_info": {
   "codemirror_mode": {
    "name": "ipython",
    "version": 3
   },
   "file_extension": ".py",
   "mimetype": "text/x-python",
   "name": "python",
   "nbconvert_exporter": "python",
   "pygments_lexer": "ipython3",
   "version": "3.9.16"
  }
 },
 "nbformat": 4,
 "nbformat_minor": 5
}
